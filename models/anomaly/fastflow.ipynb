{
 "cells": [
  {
   "cell_type": "markdown",
   "id": "c2a7e3c9",
   "metadata": {},
   "source": [
    "## Setup"
   ]
  },
  {
   "cell_type": "code",
   "execution_count": null,
   "id": "0c75a217",
   "metadata": {},
   "outputs": [],
   "source": [
    "from anomalib.models import Fastflow\n",
    "from anomalib.engine import Engine\n",
    "from anomalib.data import Folder\n",
    "from pytorch_lightning import seed_everything\n",
    "from lightning.pytorch.callbacks import EarlyStopping, ModelCheckpoint\n",
    "from torchvision.transforms import v2\n",
    "import os\n",
    "import logging\n",
    "from dotenv import load_dotenv\n",
    "import s3data\n",
    "import mlflow\n",
    "import pandas as pd\n",
    "import matplotlib.pyplot as plt\n",
    "import numpy as np\n",
    "from sklearn.metrics import precision_recall_curve, roc_curve, auc\n",
    "\n",
    "load_dotenv()\n",
    "\n",
    "logging.basicConfig(\n",
    "    level=logging.INFO,\n",
    "    format='%(asctime)s - %(name)s - %(levelname)s - %(message)s'\n",
    ")\n",
    "\n",
    "# Set seed for reproducibility\n",
    "seed_everything(42)"
   ]
  },
  {
   "cell_type": "markdown",
   "id": "33d4485a",
   "metadata": {},
   "source": [
    "## Setup MLFLow Logging"
   ]
  },
  {
   "cell_type": "code",
   "execution_count": null,
   "id": "7a47a501",
   "metadata": {},
   "outputs": [],
   "source": [
    "from anomalib.loggers import AnomalibMLFlowLogger\n",
    "\n",
    "# MLflow tracking URI\n",
    "mlflow_tracking_uri = \"http://mlflow.local:30080\"\n",
    "experiment_name = \"fastflow_experiment\"\n",
    "\n",
    "# Initialize the MLFlow logger\n",
    "mlflow_logger = AnomalibMLFlowLogger(\n",
    "    experiment_name=experiment_name,\n",
    "    tracking_uri=mlflow_tracking_uri, \n",
    "    log_model=True,  # Log the model to MLFlow\n",
    ")\n",
    "\n",
    "# Set MLflow tracking URI for direct API access\n",
    "mlflow.set_tracking_uri(mlflow_tracking_uri)\n",
    "mlflow.set_experiment(experiment_name)"
   ]
  },
  {
   "cell_type": "code",
   "execution_count": null,
   "id": "0cbd169e",
   "metadata": {},
   "outputs": [],
   "source": [
    "# Custom callback to log metrics to MLflow during training\n",
    "callbacks = [\n",
    "    ModelCheckpoint(\n",
    "        mode=\"min\",\n",
    "        monitor=\"val_loss\",\n",
    "    ),\n",
    "    EarlyStopping(\n",
    "        monitor=\"val_loss\",\n",
    "        mode=\"min\",\n",
    "        patience=3,\n",
    "    ),\n",
    "]"
   ]
  },
  {
   "cell_type": "markdown",
   "id": "045beced",
   "metadata": {},
   "source": [
    "## Prepare Data"
   ]
  },
  {
   "cell_type": "code",
   "execution_count": null,
   "id": "1ae7faa1",
   "metadata": {},
   "outputs": [],
   "source": [
    "category = 'Toonie Anomaly'\n",
    "bucket_name = os.getenv('BUCKET_NAME')\n",
    "if not bucket_name:\n",
    "    raise ValueError(\"BUCKET_NAME environment variable not set\")\n",
    "\n",
    "print(f\"Using bucket: {bucket_name}\")\n",
    "dataset_structure = s3data.get_dataset_structure(bucket_name, main_category=category)\n",
    "\n",
    "s3data.cache_dataset(bucket_name, category, dataset_structure, 'cached_dataset')\n",
    "\n",
    "datamodule = Folder(\n",
    "    name=category,\n",
    "    root=os.path.join('cached_dataset', category),\n",
    "    normal_dir='train/good',\n",
    "    # normal_test_dir='test/good',\n",
    "    abnormal_dir='test/anomaly',\n",
    ")\n",
    "\n",
    "print(\"Preparing data...\")\n",
    "datamodule.prepare_data()\n",
    "\n",
    "print(f\"Setting up '{datamodule.category}' datasets...\")\n",
    "datamodule.setup()\n",
    "\n",
    "print(f\"Training samples: {len(datamodule.train_data)}\")\n",
    "print(f\"Test samples: {len(datamodule.test_data)}\")"
   ]
  },
  {
   "cell_type": "markdown",
   "id": "0f06c76a",
   "metadata": {},
   "source": [
    "## Training the Model"
   ]
  },
  {
   "cell_type": "code",
   "execution_count": null,
   "id": "0f1cb1a7",
   "metadata": {},
   "outputs": [],
   "source": [
    "model = Fastflow(\n",
    "    backbone=\"resnet18\",  # or resnet50\n",
    "    pre_trained=True,\n",
    ")\n",
    "\n",
    "engine = Engine(\n",
    "    callbacks=callbacks,\n",
    "    logger=mlflow_logger, \n",
    "    accelerator=\"auto\", \n",
    "    devices=1, \n",
    "    max_epochs=5,\n",
    ")\n",
    "\n",
    "engine.fit(\n",
    "    model=model,\n",
    "    datamodule=datamodule,\n",
    ")\n"
   ]
  }
 ],
 "metadata": {
  "kernelspec": {
   "display_name": ".venv",
   "language": "python",
   "name": "python3"
  },
  "language_info": {
   "codemirror_mode": {
    "name": "ipython",
    "version": 3
   },
   "file_extension": ".py",
   "mimetype": "text/x-python",
   "name": "python",
   "nbconvert_exporter": "python",
   "pygments_lexer": "ipython3",
   "version": "3.10.11"
  }
 },
 "nbformat": 4,
 "nbformat_minor": 5
}
